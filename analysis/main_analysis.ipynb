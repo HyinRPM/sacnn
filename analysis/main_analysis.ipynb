{
 "cells": [
  {
   "cell_type": "code",
   "execution_count": null,
   "metadata": {},
   "outputs": [],
   "source": [
    "site = \"m1s1\"\n",
    "model_name = \"rf_cnn\"\n",
    "topk = 10\n",
    "print_on = True"
   ]
  },
  {
   "cell_type": "code",
   "execution_count": null,
   "metadata": {},
   "outputs": [],
   "source": [
    "import os\n",
    "import sys\n",
    "import numpy as np\n",
    "import matplotlib.pyplot as plt\n",
    "import torch\n",
    "import torch.nn.functional as F\n",
    "import matplotlib.pyplot as plt\n",
    "from torch import nn\n",
    "from torch import Tensor\n",
    "from PIL import Image\n",
    "from torchvision.transforms import Compose, Resize, ToTensor\n",
    "from einops import rearrange, reduce, repeat\n",
    "from einops.layers.torch import Rearrange, Reduce\n",
    "from torchsummary import summary\n",
    "from torch.utils.data import Dataset,DataLoader\n",
    "from training.utils import *\n",
    "\n",
    "from modeling import *\n",
    "\n",
    "val_img = np.load(f'/val_img_{site}.npy')\n",
    "val_resp = np.load(f'/valRsp_{site}.npy')\n",
    "val_img = np.reshape(val_img,(-1,1,50,50))\n",
    "\n",
    "net = model_rf_cnn_one_neuron()\n",
    "        "
   ]
  },
  {
   "cell_type": "code",
   "execution_count": null,
   "metadata": {},
   "outputs": [],
   "source": [
    "# corr\n",
    "corrs = []\n",
    "for neuron_number in range(val_resp.shape[1]):\n",
    "    net.load_state_dict(torch.load(f'../results/{site}_model_{model_name}/neuron_{neuron_number}.pth', map_location=torch.device('cpu')))\n",
    "    corr = pc_one_neuron(net,neuron_number,val_img,val_resp)\n",
    "    if print_on: print(corr)\n",
    "    corrs.append(corr)"
   ]
  },
  {
   "cell_type": "code",
   "execution_count": null,
   "metadata": {},
   "outputs": [],
   "source": [
    "# pt_j\n",
    "for neuron_number in range(val_resp.shape[1]):\n",
    "    net.load_state_dict(torch.load(f'../results/{site}_model_{model_name}/neuron_{neuron_number}.pth', map_location=torch.device('cpu')))\n",
    "    with torch.no_grad():\n",
    "        net.eval()\n",
    "        pred = net(torch.from_numpy(np.float32(val_img))).detach().numpy().T[0]\n",
    "    real = val_resp[:,neuron_number]\n",
    "    zipped = list(zip(list(range(1000)),pred,real))\n",
    "    zipped.sort(key=lambda x:x[2], reverse=True)\n",
    "\n",
    "    top_pred = np.asarray([a[1] for a in zipped][:topk])\n",
    "    top_real = np.asarray([a[2] for a in zipped][:topk])\n",
    "    threshold, members = top_real[-1], 0\n",
    "    for p in top_pred:\n",
    "        if p>= threshold: members+=1\n",
    "    if print_on: print(members/topk)\n"
   ]
  },
  {
   "cell_type": "code",
   "execution_count": null,
   "metadata": {},
   "outputs": [],
   "source": [
    "# pt_s\n",
    "for neuron_number in range(val_resp.shape[1]):\n",
    "    net.load_state_dict(torch.load(f'../results/{site}_model_{model_name}/neuron_{neuron_number}.pth', map_location=torch.device('cpu')))\n",
    "    with torch.no_grad():\n",
    "        net.eval()\n",
    "        pred = net(torch.from_numpy(np.float32(val_img))).detach().numpy().T[0]\n",
    "    real = val_resp[:,neuron_number]\n",
    "    zipped = list(zip(list(range(1000)),pred,real))\n",
    "    zipped.sort(key=lambda x:x[2], reverse=True)\n",
    "\n",
    "    top_pred = np.asarray(sorted([a[1] for a in zipped],reverse=True)[:topk])\n",
    "    top_real = np.asarray(sorted([a[2] for a in zipped],reverse=True)[:topk])\n",
    "    threshold, members = top_real[-1], 0\n",
    "    for p in top_pred:\n",
    "        if p>= threshold: members+=1\n",
    "    if print_on: print(members/topk)\n",
    "        \n"
   ]
  },
  {
   "cell_type": "code",
   "execution_count": null,
   "metadata": {},
   "outputs": [],
   "source": [
    "# tuning curves\n",
    "savepathname = f'./tuning_curves/{site}_model_{model_name}'\n",
    "for neuron_number in range(val_resp.shape[1]):\n",
    "    net.load_state_dict(torch.load(f'../results/{site}_model_{model_name}/neuron_{neuron_number}.pth', map_location=torch.device('cpu')))\n",
    "    with torch.no_grad():\n",
    "        net.eval()\n",
    "        pred = net(torch.from_numpy(np.float32(val_img))).detach().numpy().T[0]\n",
    "    real = val_resp[:,neuron_number]\n",
    "    zipped = list(zip(list(range(1000)),pred,real))\n",
    "    zipped.sort(key=lambda x:x[2], reverse=True)\n",
    "    plt.plot(list(range(1000)),[x[2] for x in zipped], label = \"Real Responses\")\n",
    "    plt.plot(list(range(1000)),[x[1] for x in zipped], label = \"Predicted Responses\")\n",
    "    plt.xlabel(\"Image (Rank Ordered by Real Response)\")\n",
    "    plt.ylabel(\"Neural Response\")\n",
    "    plt.title(f'Site: {site}, Model: {model_name}, Neuron: {neuron_number}')\n",
    "    plt.legend()\n",
    "    plt.savefig(f'{savepathname}/neuron_{neuron_number}')\n",
    "    if print_on: plt.show()\n",
    "    plt.clf()"
   ]
  },
  {
   "cell_type": "code",
   "execution_count": null,
   "metadata": {},
   "outputs": [],
   "source": [
    "# average tuning curve\n",
    "savepathname = f'./tuning_curves/{site}_model_{model_name}'\n",
    "accum_pred = [[] for x in range(1000)]\n",
    "accum_real = [[] for x in range(1000)]\n",
    "for neuron_number in range(val_resp.shape[1]):\n",
    "    net.load_state_dict(torch.load(f'../results/{site}_model_{model_name}/neuron_{neuron_number}.pth', map_location=torch.device('cpu')))\n",
    "    with torch.no_grad():\n",
    "        net.eval()\n",
    "        pred = net(torch.from_numpy(np.float32(val_img))).detach().numpy().T[0]\n",
    "    real = val_resp[:,neuron_number]\n",
    "    zipped = list(zip(list(range(1000)),pred,real))\n",
    "    zipped.sort(key=lambda x:x[2], reverse=True)\n",
    "    for i in range(1000):\n",
    "        accum_pred[i].append(zipped[i][1])\n",
    "        accum_real[i].append(zipped[i][2])\n",
    "avg_pred = [np.mean(x) for x in accum_pred]\n",
    "avg_real = [np.mean(x) for x in accum_real]\n",
    "plt.plot(list(range(1000)),avg_real, label = \"Average Real Responses\")\n",
    "plt.plot(list(range(1000)),avg_pred, label = \"Average Predicted Responses\")\n",
    "plt.xlabel(\"Image (Rank Ordered by Real Response)\")\n",
    "plt.ylabel(\"Average Neural Response\")\n",
    "plt.title(f'Site: {site}, Model: {model_name}, Average')\n",
    "plt.legend()\n",
    "plt.savefig(f'{savepathname}/average')\n",
    "if print_on: plt.show()\n",
    "plt.clf()\n",
    "\n"
   ]
  }
 ],
 "metadata": {
  "kernelspec": {
   "display_name": "tangvit",
   "language": "python",
   "name": "python3"
  },
  "language_info": {
   "codemirror_mode": {
    "name": "ipython",
    "version": 3
   },
   "file_extension": ".py",
   "mimetype": "text/x-python",
   "name": "python",
   "nbconvert_exporter": "python",
   "pygments_lexer": "ipython3",
   "version": "3.8.16"
  }
 },
 "nbformat": 4,
 "nbformat_minor": 2
}
