{
 "cells": [
  {
   "cell_type": "code",
   "execution_count": null,
   "metadata": {},
   "outputs": [],
   "source": [
    "site = \"m1s1\"\n",
    "neuron_number = 238\n",
    "model_name = \"rf_cnn\""
   ]
  },
  {
   "cell_type": "code",
   "execution_count": null,
   "metadata": {},
   "outputs": [],
   "source": [
    "import os\n",
    "import sys\n",
    "import numpy as np\n",
    "import matplotlib.pyplot as plt\n",
    "import torch\n",
    "import torch.nn.functional as F\n",
    "import matplotlib.pyplot as plt\n",
    "from torch import nn\n",
    "from torch import Tensor\n",
    "from PIL import Image\n",
    "from torchvision.transforms import Compose, Resize, ToTensor\n",
    "from einops import rearrange, reduce, repeat\n",
    "from einops.layers.torch import Rearrange, Reduce\n",
    "from torchsummary import summary\n",
    "from torch.utils.data import Dataset,DataLoader\n",
    "from training.utils import *\n",
    "\n",
    "from modeling import *\n",
    "\n",
    "val_img = np.load(f'/val_img_{site}.npy')\n",
    "val_resp = np.load(f'/valRsp_{site}.npy')\n",
    "val_img = np.reshape(val_img,(-1,1,50,50))\n",
    "\n",
    "net = model_rf_cnn_one_neuron()"
   ]
  },
  {
   "cell_type": "code",
   "execution_count": null,
   "metadata": {},
   "outputs": [],
   "source": [
    "net.load_state_dict(torch.load(f'../results/{site}_model_{model_name}/neuron_{neuron_number}.pth', map_location=torch.device('cpu')))\n",
    "corr = pc_one_neuron(net,neuron_number,val_img,val_resp)\n",
    "with torch.no_grad():\n",
    "    net.eval()\n",
    "    pred = net(torch.from_numpy(np.float32(val_img))).detach().numpy().T[0]\n",
    "    real = val_resp[:,neuron_number]\n",
    "    zipped = list(zip(list(range(1000)),pred,real))\n",
    "    zipped.sort(key=lambda x:x[2], reverse=True)\n",
    "plt.plot(list(range(1000)),[x[2] for x in zipped], label = \"Real\",linewidth=1.5)\n",
    "plt.plot(list(range(1000)),[x[1] for x in zipped], label = \"Prediction\",linewidth=2.5)\n",
    "plt.xlabel(\"Image\",fontsize=20)\n",
    "plt.ylabel(\"Response (dF/F)\",fontsize=20)\n",
    "plt.title(f'{dname}',fontsize=26,fontfamily='monospace')\n",
    "plt.annotate(f'CORR. = {corr:.3f}',xy=(0.6, 0.6),xycoords='figure fraction',fontsize=20)\n",
    "plt.xticks(fontsize=15)\n",
    "plt.yticks(fontsize=15)\n",
    "\n",
    "\n",
    "plt.tight_layout()\n",
    "plt.legend(fontsize=20)\n",
    "plt.savefig(f'z_tc{model_name}.pdf', format='pdf')"
   ]
  }
 ],
 "metadata": {
  "kernelspec": {
   "display_name": "tangvit",
   "language": "python",
   "name": "python3"
  },
  "language_info": {
   "codemirror_mode": {
    "name": "ipython",
    "version": 3
   },
   "file_extension": ".py",
   "mimetype": "text/x-python",
   "name": "python",
   "nbconvert_exporter": "python",
   "pygments_lexer": "ipython3",
   "version": "3.8.16"
  }
 },
 "nbformat": 4,
 "nbformat_minor": 2
}
